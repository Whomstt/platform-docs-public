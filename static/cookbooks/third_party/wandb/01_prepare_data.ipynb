{
 "cells": [
  {
   "cell_type": "code",
   "execution_count": 24,
   "metadata": {},
   "outputs": [],
   "source": [
    "# !pip install scikit-learn datasets"
   ]
  },
  {
   "cell_type": "code",
   "execution_count": 25,
   "metadata": {},
   "outputs": [],
   "source": [
    "from datasets import load_dataset\n",
    "from sklearn.model_selection import train_test_split"
   ]
  },
  {
   "cell_type": "code",
   "execution_count": 26,
   "metadata": {},
   "outputs": [
    {
     "name": "stderr",
     "output_type": "stream",
     "text": [
      "Repo card metadata block was not found. Setting CardData to empty.\n"
     ]
    }
   ],
   "source": [
    "fib_ds = load_dataset('r-three/fib', split='test')\n",
    "fib_df = fib_ds.to_pandas()"
   ]
  },
  {
   "cell_type": "code",
   "execution_count": 27,
   "metadata": {},
   "outputs": [
    {
     "data": {
      "text/html": [
       "<div>\n",
       "<style scoped>\n",
       "    .dataframe tbody tr th:only-of-type {\n",
       "        vertical-align: middle;\n",
       "    }\n",
       "\n",
       "    .dataframe tbody tr th {\n",
       "        vertical-align: top;\n",
       "    }\n",
       "\n",
       "    .dataframe thead th {\n",
       "        text-align: right;\n",
       "    }\n",
       "</style>\n",
       "<table border=\"1\" class=\"dataframe\">\n",
       "  <thead>\n",
       "    <tr style=\"text-align: right;\">\n",
       "      <th></th>\n",
       "      <th>input</th>\n",
       "      <th>list_choices</th>\n",
       "      <th>correct_choice</th>\n",
       "    </tr>\n",
       "  </thead>\n",
       "  <tbody>\n",
       "    <tr>\n",
       "      <th>3122</th>\n",
       "      <td>( cnn ) the american pharmacists association i...</td>\n",
       "      <td>[&lt;t&gt; the american pharmacists association pass...</td>\n",
       "      <td>&lt;t&gt; the american pharmacists association passe...</td>\n",
       "    </tr>\n",
       "    <tr>\n",
       "      <th>3123</th>\n",
       "      <td>( cnn ) oprah 's in there . so 's bill murray ...</td>\n",
       "      <td>[&lt;t&gt; `` the late show with david letterman '' ...</td>\n",
       "      <td>&lt;t&gt; `` the late show with david letterman '' c...</td>\n",
       "    </tr>\n",
       "    <tr>\n",
       "      <th>3124</th>\n",
       "      <td>( cnn ) feeling so happy you just ca n't stand...</td>\n",
       "      <td>[&lt;t&gt; a new study has found that acetaminophen ...</td>\n",
       "      <td>&lt;t&gt; subjects taking acetaminophen reacted less...</td>\n",
       "    </tr>\n",
       "    <tr>\n",
       "      <th>3125</th>\n",
       "      <td>( cnn ) love it or hate it , jared leto 's int...</td>\n",
       "      <td>[&lt;t&gt; the oscar winner put on white makeup -lrb...</td>\n",
       "      <td>&lt;t&gt; leto will play the clown prince of crime i...</td>\n",
       "    </tr>\n",
       "    <tr>\n",
       "      <th>3126</th>\n",
       "      <td>( the hollywood reporter ) the original cast o...</td>\n",
       "      <td>[&lt;t&gt; -lrb- the hollywood reporter -rrb- the or...</td>\n",
       "      <td>&lt;t&gt; `` twin peaks '' creator david lynch annou...</td>\n",
       "    </tr>\n",
       "  </tbody>\n",
       "</table>\n",
       "</div>"
      ],
      "text/plain": [
       "                                                  input  \\\n",
       "3122  ( cnn ) the american pharmacists association i...   \n",
       "3123  ( cnn ) oprah 's in there . so 's bill murray ...   \n",
       "3124  ( cnn ) feeling so happy you just ca n't stand...   \n",
       "3125  ( cnn ) love it or hate it , jared leto 's int...   \n",
       "3126  ( the hollywood reporter ) the original cast o...   \n",
       "\n",
       "                                           list_choices  \\\n",
       "3122  [<t> the american pharmacists association pass...   \n",
       "3123  [<t> `` the late show with david letterman '' ...   \n",
       "3124  [<t> a new study has found that acetaminophen ...   \n",
       "3125  [<t> the oscar winner put on white makeup -lrb...   \n",
       "3126  [<t> -lrb- the hollywood reporter -rrb- the or...   \n",
       "\n",
       "                                         correct_choice  \n",
       "3122  <t> the american pharmacists association passe...  \n",
       "3123  <t> `` the late show with david letterman '' c...  \n",
       "3124  <t> subjects taking acetaminophen reacted less...  \n",
       "3125  <t> leto will play the clown prince of crime i...  \n",
       "3126  <t> `` twin peaks '' creator david lynch annou...  "
      ]
     },
     "execution_count": 27,
     "metadata": {},
     "output_type": "execute_result"
    }
   ],
   "source": [
    "# Visualize the CNN/DM data\n",
    "fib_df.loc[fib_df['dataset'] == 'cnn_dm', ['input', 'list_choices', 'correct_choice']].head(5)"
   ]
  },
  {
   "cell_type": "code",
   "execution_count": 28,
   "metadata": {},
   "outputs": [],
   "source": [
    "# Only keep xsum data\n",
    "fib_df = fib_df[fib_df['dataset'] == 'xsum']"
   ]
  },
  {
   "cell_type": "code",
   "execution_count": 29,
   "metadata": {},
   "outputs": [
    {
     "data": {
      "text/html": [
       "<div>\n",
       "<style scoped>\n",
       "    .dataframe tbody tr th:only-of-type {\n",
       "        vertical-align: middle;\n",
       "    }\n",
       "\n",
       "    .dataframe tbody tr th {\n",
       "        vertical-align: top;\n",
       "    }\n",
       "\n",
       "    .dataframe thead th {\n",
       "        text-align: right;\n",
       "    }\n",
       "</style>\n",
       "<table border=\"1\" class=\"dataframe\">\n",
       "  <thead>\n",
       "    <tr style=\"text-align: right;\">\n",
       "      <th></th>\n",
       "      <th>input</th>\n",
       "      <th>list_choices</th>\n",
       "      <th>correct_choice</th>\n",
       "    </tr>\n",
       "  </thead>\n",
       "  <tbody>\n",
       "    <tr>\n",
       "      <th>0</th>\n",
       "      <td>Vehicles and pedestrians will now embark and d...</td>\n",
       "      <td>[ A new service on the Isle of Wight's chain f...</td>\n",
       "      <td>Passengers using a chain ferry have been warne...</td>\n",
       "    </tr>\n",
       "    <tr>\n",
       "      <th>1</th>\n",
       "      <td>If you leave your mobile phone somewhere do yo...</td>\n",
       "      <td>[ You may be worried about your health, but wh...</td>\n",
       "      <td>Do you ever feel lonely, stressed or jealous w...</td>\n",
       "    </tr>\n",
       "    <tr>\n",
       "      <th>2</th>\n",
       "      <td>Speaking on TV, Maria Zakharova said Jews had ...</td>\n",
       "      <td>[ The Russian foreign minister has said she ha...</td>\n",
       "      <td>A spokeswoman on Russian TV has said Jewish pe...</td>\n",
       "    </tr>\n",
       "    <tr>\n",
       "      <th>3</th>\n",
       "      <td>A report by the organisation suggests men, wom...</td>\n",
       "      <td>[ Egyptian police are systematically abusing d...</td>\n",
       "      <td>Egyptian security forces are using sexual viol...</td>\n",
       "    </tr>\n",
       "    <tr>\n",
       "      <th>4</th>\n",
       "      <td>Police in Australia and Europe were aware of a...</td>\n",
       "      <td>[One word and a freckle indirectly led to Huck...</td>\n",
       "      <td>One word and a freckle indirectly led to Huckl...</td>\n",
       "    </tr>\n",
       "  </tbody>\n",
       "</table>\n",
       "</div>"
      ],
      "text/plain": [
       "                                               input  \\\n",
       "0  Vehicles and pedestrians will now embark and d...   \n",
       "1  If you leave your mobile phone somewhere do yo...   \n",
       "2  Speaking on TV, Maria Zakharova said Jews had ...   \n",
       "3  A report by the organisation suggests men, wom...   \n",
       "4  Police in Australia and Europe were aware of a...   \n",
       "\n",
       "                                        list_choices  \\\n",
       "0  [ A new service on the Isle of Wight's chain f...   \n",
       "1  [ You may be worried about your health, but wh...   \n",
       "2  [ The Russian foreign minister has said she ha...   \n",
       "3  [ Egyptian police are systematically abusing d...   \n",
       "4  [One word and a freckle indirectly led to Huck...   \n",
       "\n",
       "                                      correct_choice  \n",
       "0  Passengers using a chain ferry have been warne...  \n",
       "1  Do you ever feel lonely, stressed or jealous w...  \n",
       "2  A spokeswoman on Russian TV has said Jewish pe...  \n",
       "3  Egyptian security forces are using sexual viol...  \n",
       "4  One word and a freckle indirectly led to Huckl...  "
      ]
     },
     "execution_count": 29,
     "metadata": {},
     "output_type": "execute_result"
    }
   ],
   "source": [
    "fib_df[['input', 'list_choices', 'correct_choice']].head(5)"
   ]
  },
  {
   "cell_type": "code",
   "execution_count": 30,
   "metadata": {},
   "outputs": [
    {
     "data": {
      "text/html": [
       "<div>\n",
       "<style scoped>\n",
       "    .dataframe tbody tr th:only-of-type {\n",
       "        vertical-align: middle;\n",
       "    }\n",
       "\n",
       "    .dataframe tbody tr th {\n",
       "        vertical-align: top;\n",
       "    }\n",
       "\n",
       "    .dataframe thead th {\n",
       "        text-align: right;\n",
       "    }\n",
       "</style>\n",
       "<table border=\"1\" class=\"dataframe\">\n",
       "  <thead>\n",
       "    <tr style=\"text-align: right;\">\n",
       "      <th></th>\n",
       "      <th>input</th>\n",
       "      <th>list_choices</th>\n",
       "      <th>correct_choice</th>\n",
       "    </tr>\n",
       "  </thead>\n",
       "  <tbody>\n",
       "    <tr>\n",
       "      <th>0</th>\n",
       "      <td>Vehicles and pedestrians will now embark and d...</td>\n",
       "      <td>A new service on the Isle of Wight's chain fer...</td>\n",
       "      <td>Passengers using a chain ferry have been warne...</td>\n",
       "    </tr>\n",
       "    <tr>\n",
       "      <th>0</th>\n",
       "      <td>Vehicles and pedestrians will now embark and d...</td>\n",
       "      <td>Passengers using a chain ferry have been warne...</td>\n",
       "      <td>Passengers using a chain ferry have been warne...</td>\n",
       "    </tr>\n",
       "    <tr>\n",
       "      <th>1</th>\n",
       "      <td>If you leave your mobile phone somewhere do yo...</td>\n",
       "      <td>You may be worried about your health, but what...</td>\n",
       "      <td>Do you ever feel lonely, stressed or jealous w...</td>\n",
       "    </tr>\n",
       "    <tr>\n",
       "      <th>1</th>\n",
       "      <td>If you leave your mobile phone somewhere do yo...</td>\n",
       "      <td>Do you ever feel lonely, stressed or jealous w...</td>\n",
       "      <td>Do you ever feel lonely, stressed or jealous w...</td>\n",
       "    </tr>\n",
       "    <tr>\n",
       "      <th>2</th>\n",
       "      <td>Speaking on TV, Maria Zakharova said Jews had ...</td>\n",
       "      <td>The Russian foreign minister has said she has ...</td>\n",
       "      <td>A spokeswoman on Russian TV has said Jewish pe...</td>\n",
       "    </tr>\n",
       "  </tbody>\n",
       "</table>\n",
       "</div>"
      ],
      "text/plain": [
       "                                               input  \\\n",
       "0  Vehicles and pedestrians will now embark and d...   \n",
       "0  Vehicles and pedestrians will now embark and d...   \n",
       "1  If you leave your mobile phone somewhere do yo...   \n",
       "1  If you leave your mobile phone somewhere do yo...   \n",
       "2  Speaking on TV, Maria Zakharova said Jews had ...   \n",
       "\n",
       "                                        list_choices  \\\n",
       "0  A new service on the Isle of Wight's chain fer...   \n",
       "0  Passengers using a chain ferry have been warne...   \n",
       "1  You may be worried about your health, but what...   \n",
       "1  Do you ever feel lonely, stressed or jealous w...   \n",
       "2  The Russian foreign minister has said she has ...   \n",
       "\n",
       "                                      correct_choice  \n",
       "0  Passengers using a chain ferry have been warne...  \n",
       "0  Passengers using a chain ferry have been warne...  \n",
       "1  Do you ever feel lonely, stressed or jealous w...  \n",
       "1  Do you ever feel lonely, stressed or jealous w...  \n",
       "2  A spokeswoman on Russian TV has said Jewish pe...  "
      ]
     },
     "execution_count": 30,
     "metadata": {},
     "output_type": "execute_result"
    }
   ],
   "source": [
    "# Each list choice contains a positive and negative summary; we'll explode, clean, and drop duplicates\n",
    "fib_df = fib_df.explode('list_choices')\n",
    "fib_df['list_choices'] = fib_df['list_choices'].apply(lambda x: x.strip())\n",
    "fib_df = fib_df.drop_duplicates(subset=['input', 'list_choices'])\n",
    "fib_df[['input', 'list_choices', 'correct_choice']].head(5)"
   ]
  },
  {
   "cell_type": "markdown",
   "metadata": {},
   "source": [
    "![](static/nli.png)\n",
    "\n",
    "We are going to map to 0 and 1 for the sake of it!"
   ]
  },
  {
   "cell_type": "code",
   "execution_count": 31,
   "metadata": {},
   "outputs": [
    {
     "data": {
      "text/html": [
       "<div>\n",
       "<style scoped>\n",
       "    .dataframe tbody tr th:only-of-type {\n",
       "        vertical-align: middle;\n",
       "    }\n",
       "\n",
       "    .dataframe tbody tr th {\n",
       "        vertical-align: top;\n",
       "    }\n",
       "\n",
       "    .dataframe thead th {\n",
       "        text-align: right;\n",
       "    }\n",
       "</style>\n",
       "<table border=\"1\" class=\"dataframe\">\n",
       "  <thead>\n",
       "    <tr style=\"text-align: right;\">\n",
       "      <th></th>\n",
       "      <th>input</th>\n",
       "      <th>list_choices</th>\n",
       "      <th>correct_choice</th>\n",
       "      <th>target</th>\n",
       "    </tr>\n",
       "  </thead>\n",
       "  <tbody>\n",
       "    <tr>\n",
       "      <th>0</th>\n",
       "      <td>Vehicles and pedestrians will now embark and d...</td>\n",
       "      <td>A new service on the Isle of Wight's chain fer...</td>\n",
       "      <td>Passengers using a chain ferry have been warne...</td>\n",
       "      <td>0</td>\n",
       "    </tr>\n",
       "    <tr>\n",
       "      <th>0</th>\n",
       "      <td>Vehicles and pedestrians will now embark and d...</td>\n",
       "      <td>Passengers using a chain ferry have been warne...</td>\n",
       "      <td>Passengers using a chain ferry have been warne...</td>\n",
       "      <td>1</td>\n",
       "    </tr>\n",
       "    <tr>\n",
       "      <th>1</th>\n",
       "      <td>If you leave your mobile phone somewhere do yo...</td>\n",
       "      <td>You may be worried about your health, but what...</td>\n",
       "      <td>Do you ever feel lonely, stressed or jealous w...</td>\n",
       "      <td>0</td>\n",
       "    </tr>\n",
       "    <tr>\n",
       "      <th>1</th>\n",
       "      <td>If you leave your mobile phone somewhere do yo...</td>\n",
       "      <td>Do you ever feel lonely, stressed or jealous w...</td>\n",
       "      <td>Do you ever feel lonely, stressed or jealous w...</td>\n",
       "      <td>1</td>\n",
       "    </tr>\n",
       "    <tr>\n",
       "      <th>2</th>\n",
       "      <td>Speaking on TV, Maria Zakharova said Jews had ...</td>\n",
       "      <td>The Russian foreign minister has said she has ...</td>\n",
       "      <td>A spokeswoman on Russian TV has said Jewish pe...</td>\n",
       "      <td>0</td>\n",
       "    </tr>\n",
       "  </tbody>\n",
       "</table>\n",
       "</div>"
      ],
      "text/plain": [
       "                                               input  \\\n",
       "0  Vehicles and pedestrians will now embark and d...   \n",
       "0  Vehicles and pedestrians will now embark and d...   \n",
       "1  If you leave your mobile phone somewhere do yo...   \n",
       "1  If you leave your mobile phone somewhere do yo...   \n",
       "2  Speaking on TV, Maria Zakharova said Jews had ...   \n",
       "\n",
       "                                        list_choices  \\\n",
       "0  A new service on the Isle of Wight's chain fer...   \n",
       "0  Passengers using a chain ferry have been warne...   \n",
       "1  You may be worried about your health, but what...   \n",
       "1  Do you ever feel lonely, stressed or jealous w...   \n",
       "2  The Russian foreign minister has said she has ...   \n",
       "\n",
       "                                      correct_choice  target  \n",
       "0  Passengers using a chain ferry have been warne...       0  \n",
       "0  Passengers using a chain ferry have been warne...       1  \n",
       "1  Do you ever feel lonely, stressed or jealous w...       0  \n",
       "1  Do you ever feel lonely, stressed or jealous w...       1  \n",
       "2  A spokeswoman on Russian TV has said Jewish pe...       0  "
      ]
     },
     "execution_count": 31,
     "metadata": {},
     "output_type": "execute_result"
    }
   ],
   "source": [
    "# Create labels where factually consistent = 2 (entailment) and factually inconsistent = 0 (contradiction)\n",
    "# What happened to label = 1? We drop it as it represents neutral in the NLI task\n",
    "fib_df.loc[fib_df['correct_choice'] == fib_df['list_choices'], 'target'] = 1\n",
    "fib_df.loc[fib_df['correct_choice'] != fib_df['list_choices'], 'target'] = 0\n",
    "fib_df['target'] = fib_df['target'].astype(int)\n",
    "\n",
    "fib_df[['input', 'list_choices', 'correct_choice', 'target']].head()"
   ]
  },
  {
   "cell_type": "code",
   "execution_count": 32,
   "metadata": {},
   "outputs": [],
   "source": [
    "# Split into train and val, ensuring that the same source doc doesn't appear across train and val\n",
    "source_grouped = (fib_df.groupby('input')\n",
    "                  .agg({'target': 'count'})\n",
    "                  .reset_index())\n",
    "\n",
    "input_train, input_val = train_test_split(source_grouped,\n",
    "                                          test_size=0.18, # mistral fine-tune doesn't want more than 20%\n",
    "                                          stratify=source_grouped['target'],\n",
    "                                          random_state=1368)\n",
    "\n",
    "# input_test, input_val = train_test_split(input_val,\n",
    "#                                          test_size=0.5,\n",
    "#                                          stratify=input_val['target'],\n",
    "#                                          random_state=1368)\n",
    "\n",
    "fib_train = fib_df[fib_df['input'].isin(input_train['input'])]\n",
    "fib_val = fib_df[fib_df['input'].isin(input_val['input'])]\n",
    "# fib_test = fib_df[fib_df['input'].isin(input_test['input'])]"
   ]
  },
  {
   "cell_type": "code",
   "execution_count": 33,
   "metadata": {},
   "outputs": [],
   "source": [
    "# NOTE: In FIB, each doc has 1 positive summary and 5-6 negative summaries. We'll balance it to 1 is to 1.\n",
    "fib_train = fib_train.drop_duplicates(subset=['input', 'target'])\n",
    "fib_val = fib_val.drop_duplicates(subset=['input', 'target'])\n",
    "# fib_test = fib_test.drop_duplicates(subset=['input', 'target'])"
   ]
  },
  {
   "cell_type": "code",
   "execution_count": 34,
   "metadata": {},
   "outputs": [],
   "source": [
    "fib_train.to_csv('data/fib-train.csv', index=False)\n",
    "fib_val.to_csv('data/fib-val.csv', index=False)\n",
    "# fib_test.to_csv('data/fib-test.csv', index=False)"
   ]
  },
  {
   "cell_type": "code",
   "execution_count": 35,
   "metadata": {},
   "outputs": [
    {
     "data": {
      "text/plain": [
       "820"
      ]
     },
     "execution_count": 35,
     "metadata": {},
     "output_type": "execute_result"
    }
   ],
   "source": [
    "len(fib_train)"
   ]
  },
  {
   "cell_type": "code",
   "execution_count": 36,
   "metadata": {},
   "outputs": [
    {
     "data": {
      "text/plain": [
       "id                                                           32168497\n",
       "input               Vehicles and pedestrians will now embark and d...\n",
       "correct_choice      Passengers using a chain ferry have been warne...\n",
       "list_choices        A new service on the Isle of Wight's chain fer...\n",
       "lbl                                                                 1\n",
       "distractor_model                                            bart-base\n",
       "dataset                                                          xsum\n",
       "target                                                              0\n",
       "Name: 0, dtype: object"
      ]
     },
     "execution_count": 36,
     "metadata": {},
     "output_type": "execute_result"
    }
   ],
   "source": [
    "fib_train.iloc[0]"
   ]
  },
  {
   "cell_type": "code",
   "execution_count": 37,
   "metadata": {},
   "outputs": [
    {
     "name": "stderr",
     "output_type": "stream",
     "text": [
      "Generating train split: 820 examples [00:00, 23944.92 examples/s]\n",
      "Generating val split: 180 examples [00:00, 20254.73 examples/s]\n"
     ]
    }
   ],
   "source": [
    "# Test loading into dataset\n",
    "fib_files = {'train': 'data/fib-train.csv',\n",
    "             'val': 'data/fib-val.csv'}\n",
    "\n",
    "fib_ds = load_dataset('csv', data_files=fib_files)\n",
    "fib_ds = fib_ds.select_columns(['input', 'list_choices', 'target'])\n",
    "fib_ds = fib_ds.rename_column('input', 'premise').rename_column('list_choices', 'hypothesis')"
   ]
  },
  {
   "cell_type": "code",
   "execution_count": 38,
   "metadata": {},
   "outputs": [
    {
     "data": {
      "text/plain": [
       "{'premise': 'Speaking on TV, Maria Zakharova said Jews had told her they donated both to Mr Trump and Hillary Clinton.\\nShe joked that American Jews were the best guide to US politics.\\nThe diplomat\\'s remarks caused shock. Anti-US propagandists in the last century peddled an idea that rich New York Jews controlled US politics.\\nMs Zakharova was speaking on a chat show on Russian state TV at the weekend but her comments drew more attention after being picked up by media outlets on Thursday.\\nShe said she had visited New York with an official Russian delegation at the time of the last UN General Assembly, in September.\\n\"I have a lot of friends and acquaintances there, of course I was interested to find out: how are the elections going, what are the American people\\'s expectations?\" she said.\\n\"If you want to know what will happen in America, who do you need to talk to? You have to talk to the Jews, of course. It goes without saying.\"\\nAt this, the TV studio audience applauded loudly.\\n\"I went here and there among them, to chat,\" she continued.\\nImitating a Jewish accent, Mrs Zakharova said Jewish people had told her: \"\\'Marochka, understand this - we\\'ll donate to Clinton, of course. But we\\'ll give the Republicans twice that amount.\\' Enough said! That settled it for me - the picture was clear.\\n\"If you want to know the future, don\\'t read the mainstream newspapers - our people in Brighton [Beach] will tell you everything.\"\\nShe was referring to a district of Brooklyn with a large diaspora of Jewish emigres from the former Soviet Union.\\nRussian opposition activist Roman Dobrokhotov wrote on Twitter (in Russian) that the spokeswoman had \"explained Trump\\'s victory as a Jewish conspiracy\".\\nMichael McFaul, the former US ambassador to Moscow, commented on Facebook, \"Wow. And this is the woman who criticizes me for not being diplomatic.\"\\nDuring the election campaign, Mrs Clinton accused Mr Trump of posting a \"blatantly anti-Semitic\" tweet after he used an image resembling the Star of David and stacks of money.\\nMr Trump, whose son-in-law Jared Kushner is Jewish, dismissed the accusation as \"ridiculous\".\\nAn exit poll by US non-profit J Street suggests an overwhelming majority of US Jews voted for Hillary Clinton in the presidential election.',\n",
       " 'hypothesis': 'A spokeswoman on Russian TV has said Jewish people in New York told her they had mainly backed Trump in the US election.',\n",
       " 'target': 1}"
      ]
     },
     "execution_count": 38,
     "metadata": {},
     "output_type": "execute_result"
    }
   ],
   "source": [
    "fib_ds[\"train\"][5]"
   ]
  },
  {
   "cell_type": "code",
   "execution_count": 39,
   "metadata": {},
   "outputs": [],
   "source": [
    "ds_train = fib_ds[\"train\"]\n",
    "ds_val = fib_ds[\"val\"]\n",
    "# ds_test = fib_ds[\"test\"]"
   ]
  },
  {
   "cell_type": "code",
   "execution_count": 40,
   "metadata": {},
   "outputs": [
    {
     "name": "stderr",
     "output_type": "stream",
     "text": [
      "Creating json from Arrow format: 100%|█████████████████████████████████████████████████████████████████████████████████████████████████████████████████████████████████████████████████| 1/1 [00:00<00:00, 126.79ba/s]\n",
      "Creating json from Arrow format: 100%|█████████████████████████████████████████████████████████████████████████████████████████████████████████████████████████████████████████████████| 1/1 [00:00<00:00, 510.19ba/s]\n"
     ]
    },
    {
     "data": {
      "text/plain": [
       "274757"
      ]
     },
     "execution_count": 40,
     "metadata": {},
     "output_type": "execute_result"
    }
   ],
   "source": [
    "ds_train.to_json(\"data/fib-train.jsonl\", orient=\"records\", lines=True)\n",
    "ds_val.to_json(\"data/fib-val.jsonl\", orient=\"records\", lines=True)\n",
    "# ds_test.to_json(\"data/fib-test.jsonl\", orient=\"records\", lines=True)"
   ]
  },
  {
   "cell_type": "markdown",
   "metadata": {},
   "source": [
    "## USB"
   ]
  },
  {
   "cell_type": "code",
   "execution_count": 42,
   "metadata": {},
   "outputs": [
    {
     "name": "stderr",
     "output_type": "stream",
     "text": [
      "Generating train split: 5050 examples [00:00, 70732.38 examples/s]\n",
      "Generating val split: 2668 examples [00:00, 108077.02 examples/s]\n",
      "Map: 100%|██████████████████████████████████████████████████████████████████████████████████████████████████████████████████████████████████████████████████████████████| 5050/5050 [00:00<00:00, 67926.67 examples/s]\n",
      "Map: 100%|██████████████████████████████████████████████████████████████████████████████████████████████████████████████████████████████████████████████████████████████| 2668/2668 [00:00<00:00, 65323.30 examples/s]\n",
      "Creating json from Arrow format: 100%|█████████████████████████████████████████████████████████████████████████████████████████████████████████████████████████████████████████████████| 6/6 [00:00<00:00, 325.66ba/s]\n",
      "Creating json from Arrow format: 100%|█████████████████████████████████████████████████████████████████████████████████████████████████████████████████████████████████████████████████| 3/3 [00:00<00:00, 204.83ba/s]\n"
     ]
    },
    {
     "data": {
      "text/plain": [
       "1603234"
      ]
     },
     "execution_count": 42,
     "metadata": {},
     "output_type": "execute_result"
    }
   ],
   "source": [
    "usb_files = {'train': 'data/usb-train.csv',\n",
    "             'val': 'data/usb-val.csv'}\n",
    "\n",
    "usb_ds = load_dataset('csv', data_files=usb_files)\n",
    "usb_ds = usb_ds.select_columns(['source', 'summary_sent', 'label'])\n",
    "usb_ds = usb_ds.rename_column('source', 'premise').rename_column('summary_sent', 'hypothesis')\n",
    "usb_ds = usb_ds.map(lambda x: {\"label\": 1 if x[\"label\"] == 2 else x[\"label\"]})\n",
    "usb_ds = usb_ds.rename_column('label', 'target')\n",
    "\n",
    "usb_ds_train = usb_ds[\"train\"]\n",
    "usb_ds_val = usb_ds[\"val\"]\n",
    "usb_ds_train.to_json(\"data/usb-train.jsonl\", orient=\"records\", lines=True)\n",
    "usb_ds_val.to_json(\"data/usb-val.jsonl\", orient=\"records\", lines=True)"
   ]
  },
  {
   "cell_type": "code",
   "execution_count": 43,
   "metadata": {},
   "outputs": [
    {
     "data": {
      "text/plain": [
       "Dataset({\n",
       "    features: ['premise', 'hypothesis', 'target'],\n",
       "    num_rows: 5050\n",
       "})"
      ]
     },
     "execution_count": 43,
     "metadata": {},
     "output_type": "execute_result"
    }
   ],
   "source": [
    "usb_ds_train"
   ]
  }
 ],
 "metadata": {
  "kernelspec": {
   "display_name": "Python 3 (ipykernel)",
   "language": "python",
   "name": "python3"
  },
  "language_info": {
   "codemirror_mode": {
    "name": "ipython",
    "version": 3
   },
   "file_extension": ".py",
   "mimetype": "text/x-python",
   "name": "python",
   "nbconvert_exporter": "python",
   "pygments_lexer": "ipython3",
   "version": "3.10.12"
  }
 },
 "nbformat": 4,
 "nbformat_minor": 4
}
